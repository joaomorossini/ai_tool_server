{
 "cells": [
  {
   "cell_type": "code",
   "execution_count": null,
   "metadata": {},
   "outputs": [],
   "source": [
    "# Add a new customer to the 'clientes' table in the database\n",
    "from typing import Optional\n",
    "\n",
    "\n",
    "class AddOrRetrieveCustomerSchema(BaseModel):\n",
    "    whatsapp_contact: int = Field(\n",
    "        default=...,\n",
    "        title=\"Whatsapp Contact\",\n",
    "        description=\"The user's WhatsApp contact in E.164 format.\",\n",
    "        examples=[554999927154, 554796210308],\n",
    "    )\n",
    "    name: str = Field(..., title=\"Name\", description=\"The name of the customer.\")\n",
    "    email: str = Field(..., title=\"Email\", description=\"The email of the customer.\")\n",
    "    company_name: str = Field(\n",
    "        ..., title=\"Company Name\", description=\"The company of the customer.\"\n",
    "    )\n",
    "    company_tax_id: Optional[int] = Field(\n",
    "        \"\",\n",
    "        title=\"Company Tax ID\",\n",
    "        description=\"The tax ID of the company, aka 'CNPJ', in Brazil. Only numbers. No dots, slashes, hyphens or spaces.\",\n",
    "    )\n"
   ]
  },
  {
   "cell_type": "code",
   "execution_count": null,
   "metadata": {},
   "outputs": [],
   "source": []
  },
  {
   "cell_type": "code",
   "execution_count": null,
   "metadata": {},
   "outputs": [],
   "source": []
  },
  {
   "cell_type": "code",
   "execution_count": null,
   "metadata": {},
   "outputs": [],
   "source": []
  },
  {
   "cell_type": "code",
   "execution_count": null,
   "metadata": {},
   "outputs": [],
   "source": []
  }
 ],
 "metadata": {
  "kernelspec": {
   "display_name": "hub",
   "language": "python",
   "name": "python3"
  },
  "language_info": {
   "name": "python",
   "version": "3.11.9"
  }
 },
 "nbformat": 4,
 "nbformat_minor": 2
}
